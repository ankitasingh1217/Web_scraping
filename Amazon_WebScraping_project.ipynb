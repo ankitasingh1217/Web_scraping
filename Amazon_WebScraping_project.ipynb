{
 "cells": [
  {
   "cell_type": "code",
   "execution_count": 1,
   "metadata": {},
   "outputs": [
    {
     "name": "stdout",
     "output_type": "stream",
     "text": [
      "501f7ad2aa7c6ef213b0e562d2f03ba4\n",
      "http://127.0.0.1:58654\n"
     ]
    }
   ],
   "source": [
    "from selenium.webdriver.common.action_chains import ActionChains\n",
    "from selenium.webdriver.support import expected_conditions as EC\n",
    "from selenium.common.exceptions import TimeoutException\n",
    "from selenium.webdriver.support.ui import WebDriverWait\n",
    "from selenium.webdriver.common.keys import Keys\n",
    "from selenium.webdriver.common.by import By\n",
    "from selenium.webdriver import ActionChains\n",
    "import selenium.webdriver.support.ui as ui\n",
    "from pdf2image import convert_from_path\n",
    "from selenium import webdriver\n",
    "from bs4 import BeautifulSoup\n",
    "from datetime import date\n",
    "from PIL import Image \n",
    "import pandas as pd\n",
    "import pytesseract\n",
    "import requests\n",
    "import random\n",
    "import shutil\n",
    "import glob\n",
    "import json\n",
    "import fire\n",
    "import time\n",
    "import csv\n",
    "import sys\n",
    "import os\n",
    "import re\n",
    "\n",
    "pytesseract.pytesseract.tesseract_cmd = r'E:\\Tesseract-OCR\\tesseract.exe'\n",
    "base_dir = os.path.abspath(os.path.dirname(\"__file__\"))\n",
    "os.environ[\"LANG\"] = \"en_US.UTF-8\"\n",
    "\n",
    "# 192.41.71.199:3128   50.246.120.125:8080  157.230.44.213:8080   74.121.98.90:8080   192.41.71.221:3128 \n",
    "# 74.121.98.90:8080  192.144.215.244:3128\n",
    "PROXY =     \"192.41.71.199:3128\"   \n",
    "\n",
    "options = webdriver.ChromeOptions()\n",
    "appState = {\n",
    "    \"recentDestinations\": [\n",
    "        {\n",
    "            \"id\": \"Save as PDF\",\n",
    "            \"origin\": \"local\",\n",
    "            \"account\": \"\"\n",
    "        }\n",
    "    ],\n",
    "    \"selectedDestinationId\": \"Save as PDF\",\n",
    "    \"version\": 2\n",
    "}\n",
    "profile = {'printing.print_preview_sticky_settings.appState': json.dumps(appState)}\n",
    "options.add_experimental_option('prefs',  {\n",
    "    \"download.default_directory\": base_dir,\n",
    "    \"download.prompt_for_download\": False,\n",
    "    \"download.directory_upgrade\": True,\n",
    "    \"plugins.always_open_pdf_externally\": True\n",
    "    }\n",
    ")\n",
    "options.headless = False \n",
    "# options.add_argument('--proxy-server=%s' % PROXY)\n",
    "options.add_experimental_option('prefs', profile)\n",
    "options.add_argument('--kiosk-printing')\n",
    "# options.binary_location = r\"C:\\Program Files (x86)\\Google\\Chrome\\Application\\chrome.exe\"\n",
    "\n",
    "driver = webdriver.Chrome(executable_path =r\"C:\\Users\\Ankita Rajesh singh\\Desktop\\Chromedriver\\chromedriver\",options=options)\n",
    "driver.maximize_window()\n",
    "driver.get(\"https://www.amazon.com/s?k=sanitizer&crid=2QWKDX28H5D87&sprefix=sanitizer%2Caps%2C503&ref=nb_sb_ss_ts-a-p_1_9\")\n",
    "\n",
    "\n",
    "# GET SESSION ID & URL\n",
    "executor_url = driver.command_executor._url\n",
    "session_id = driver.session_id\n",
    "print(session_id)\n",
    "print(executor_url)\n"
   ]
  },
  {
   "cell_type": "code",
   "execution_count": 4,
   "metadata": {},
   "outputs": [],
   "source": [
    "soup = BeautifulSoup(driver.page_source,'html.parser')"
   ]
  },
  {
   "cell_type": "code",
   "execution_count": 5,
   "metadata": {},
   "outputs": [],
   "source": [
    "results = soup.find_all('div', {'data-component-type':'s-search-result'})"
   ]
  },
  {
   "cell_type": "code",
   "execution_count": 6,
   "metadata": {},
   "outputs": [
    {
     "data": {
      "text/plain": [
       "60"
      ]
     },
     "execution_count": 6,
     "metadata": {},
     "output_type": "execute_result"
    }
   ],
   "source": [
    "len(results)"
   ]
  },
  {
   "cell_type": "markdown",
   "metadata": {},
   "source": [
    "# Prototype the record"
   ]
  },
  {
   "cell_type": "code",
   "execution_count": 7,
   "metadata": {},
   "outputs": [],
   "source": [
    "item = results[0]"
   ]
  },
  {
   "cell_type": "code",
   "execution_count": 8,
   "metadata": {},
   "outputs": [],
   "source": [
    "atag = item.h2.a"
   ]
  },
  {
   "cell_type": "code",
   "execution_count": 9,
   "metadata": {},
   "outputs": [],
   "source": [
    "description = atag.text.strip()"
   ]
  },
  {
   "cell_type": "code",
   "execution_count": 10,
   "metadata": {},
   "outputs": [],
   "source": [
    "url ='https://www.amazon.com/' + atag.get('href')"
   ]
  },
  {
   "cell_type": "code",
   "execution_count": 11,
   "metadata": {},
   "outputs": [
    {
     "data": {
      "text/plain": [
       "'https://www.amazon.com//gp/slredirect/picassoRedirect.html/ref=pa_sp_atf_aps_sr_pg1_1?ie=UTF8&adId=A1013952NLBANBC8NJRG&url=%2FSanitizer-Sterilizer-Smartphone-Clinically-59S%2Fdp%2FB0861BNBXW%2Fref%3Dsr_1_1_sspa%3Fcrid%3D2QWKDX28H5D87%26dchild%3D1%26keywords%3Dsanitizer%26qid%3D1607008349%26sprefix%3Dsanitizer%252Caps%252C503%26sr%3D8-1-spons%26psc%3D1&qualifier=1607008349&id=2339765625581557&widgetName=sp_atf'"
      ]
     },
     "execution_count": 11,
     "metadata": {},
     "output_type": "execute_result"
    }
   ],
   "source": [
    "url"
   ]
  },
  {
   "cell_type": "code",
   "execution_count": 12,
   "metadata": {},
   "outputs": [],
   "source": [
    "price_parent = item.find('span','a-price')"
   ]
  },
  {
   "cell_type": "code",
   "execution_count": 13,
   "metadata": {},
   "outputs": [],
   "source": [
    "price = price_parent.find('span','a-offscreen').text"
   ]
  },
  {
   "cell_type": "code",
   "execution_count": 14,
   "metadata": {},
   "outputs": [
    {
     "data": {
      "text/plain": [
       "'$79.99'"
      ]
     },
     "execution_count": 14,
     "metadata": {},
     "output_type": "execute_result"
    }
   ],
   "source": [
    "price"
   ]
  },
  {
   "cell_type": "code",
   "execution_count": 15,
   "metadata": {},
   "outputs": [
    {
     "data": {
      "text/plain": [
       "'79.99'"
      ]
     },
     "execution_count": 15,
     "metadata": {},
     "output_type": "execute_result"
    }
   ],
   "source": [
    "prodct_price = price.replace('$','')\n",
    "prodct_price"
   ]
  },
  {
   "cell_type": "code",
   "execution_count": 16,
   "metadata": {},
   "outputs": [
    {
     "data": {
      "text/plain": [
       "'4.6 out of 5 stars'"
      ]
     },
     "execution_count": 16,
     "metadata": {},
     "output_type": "execute_result"
    }
   ],
   "source": [
    "rating = item.i.text\n",
    "rating"
   ]
  },
  {
   "cell_type": "code",
   "execution_count": 17,
   "metadata": {},
   "outputs": [
    {
     "data": {
      "text/plain": [
       "'631'"
      ]
     },
     "execution_count": 17,
     "metadata": {},
     "output_type": "execute_result"
    }
   ],
   "source": [
    "review_count = item.find('span',{'class':'a-size-base','dir':'auto'}).text\n",
    "review_count"
   ]
  },
  {
   "cell_type": "code",
   "execution_count": 44,
   "metadata": {},
   "outputs": [],
   "source": [
    "img_url = item.find('span',{'class':\"a-button a-button-thumbnail a-button-toggle\"})"
   ]
  },
  {
   "cell_type": "code",
   "execution_count": null,
   "metadata": {},
   "outputs": [],
   "source": []
  },
  {
   "cell_type": "code",
   "execution_count": 46,
   "metadata": {},
   "outputs": [],
   "source": [
    "img_url"
   ]
  },
  {
   "cell_type": "markdown",
   "metadata": {},
   "source": [
    "# Generalize the pattern"
   ]
  },
  {
   "cell_type": "code",
   "execution_count": 22,
   "metadata": {},
   "outputs": [],
   "source": [
    "def extract_record(item):\n",
    "    atag = item.h2.a\n",
    "    description = atag.text.strip()\n",
    "    url ='https://www.amazon.com/' + atag.get('href')\n",
    "    \n",
    "    try:\n",
    "        #price\n",
    "        price_parent = item.find('span','a-price')\n",
    "        price = price_parent.find('span','a-offscreen').text \n",
    "        prodct_price = price.replace('$','')\n",
    "    except AttributeError:\n",
    "        return\n",
    "    \n",
    "    try:\n",
    "        #rating\n",
    "        rating = item.i.text\n",
    "        review_count = item.find('span',{'class':'a-size-base','dir':'auto'}).text\n",
    "    except AttributeError:\n",
    "        rating=''\n",
    "        review_count=''\n",
    "    result = (description, price, rating, review_count, url)\n",
    "    return result"
   ]
  },
  {
   "cell_type": "code",
   "execution_count": null,
   "metadata": {},
   "outputs": [],
   "source": [
    "img_url  ="
   ]
  },
  {
   "cell_type": "code",
   "execution_count": 24,
   "metadata": {},
   "outputs": [],
   "source": [
    "records = []\n",
    "results = soup.find_all('div',{'data-component-type':'s-search-result'})\n",
    "\n",
    "for item in results:\n",
    "    record = extract_record(item)\n",
    "    if record:\n",
    "        records.append(record)"
   ]
  },
  {
   "cell_type": "code",
   "execution_count": 25,
   "metadata": {},
   "outputs": [
    {
     "data": {
      "text/plain": [
       "('Automatic Hand Sanitizer Dispenser, 1200ml Hand Sanitizer Stand - Touchless Auto Sensor Sanitizing Station - Ship From USA- Steel Floor Stand, Drip Catcher - Ideal for All Public Places',\n",
       " '$138.98',\n",
       " '4.7 out of 5 stars',\n",
       " '106',\n",
       " 'https://www.amazon.com//gp/slredirect/picassoRedirect.html/ref=pa_sp_atf_aps_sr_pg1_1?ie=UTF8&adId=A09848053A6J15VHQOKEJ&url=%2FAutomatic-Sanitizer-Dispenser-1200ml-Stand%2Fdp%2FB08GKVMJG5%2Fref%3Dsr_1_1_sspa%3Fcrid%3D2QWKDX28H5D87%26dchild%3D1%26keywords%3Dsanitizer%26qid%3D1606923473%26sprefix%3Dsanitizer%252Caps%252C503%26sr%3D8-1-spons%26psc%3D1&qualifier=1606923473&id=8609005465985877&widgetName=sp_atf')"
      ]
     },
     "execution_count": 25,
     "metadata": {},
     "output_type": "execute_result"
    }
   ],
   "source": [
    "records[0]"
   ]
  },
  {
   "cell_type": "code",
   "execution_count": 26,
   "metadata": {},
   "outputs": [
    {
     "name": "stdout",
     "output_type": "stream",
     "text": [
      "$138.98\n",
      "$138.98\n",
      "$79.99\n",
      "$49.99\n",
      "$39.99\n",
      "$119.99\n",
      "$15.99\n",
      "$78.99\n",
      "$109.99\n",
      "$199.99\n",
      "$12.00\n",
      "$138.98\n",
      "$139.00\n",
      "$69.99\n",
      "$59.99\n",
      "$14.99\n",
      "$34.99\n",
      "$55.99\n",
      "$49.99\n",
      "$23.99\n",
      "$34.99\n",
      "$69.99\n",
      "$27.99\n",
      "$55.99\n",
      "$115.99\n",
      "$27.99\n",
      "$51.99\n",
      "$85.99\n",
      "$15.95\n",
      "$65.99\n",
      "$18.91\n",
      "$39.99\n",
      "$25.73\n",
      "$57.98\n",
      "$16.28\n",
      "$35.99\n",
      "$69.99\n",
      "$59.99\n",
      "$69.88\n",
      "$69.99\n",
      "$129.95\n",
      "$59.99\n",
      "$129.99\n",
      "$98.95\n",
      "$59.99\n"
     ]
    }
   ],
   "source": [
    "for row in records:\n",
    "    print(row[1])"
   ]
  },
  {
   "cell_type": "markdown",
   "metadata": {},
   "source": [
    "# Getting the next page"
   ]
  },
  {
   "cell_type": "code",
   "execution_count": 27,
   "metadata": {},
   "outputs": [],
   "source": [
    "def get_url(search_term):\n",
    "    template ='https://www.amazon.com/s?k=sanitizer&crid=2QWKDX28H5D87&sprefix=sanitizer%2Caps%2C503&ref=nb_sb_ss_ts-a-p_1_9'\n",
    "    search_term = search_term.replace('','+')\n",
    "    \n",
    "    #add query to url\n",
    "    url = template.format(search_term)\n",
    "    \n",
    "    #add page query\n",
    "    url += '&page{}'\n",
    "    \n",
    "    return url "
   ]
  },
  {
   "cell_type": "markdown",
   "metadata": {},
   "source": [
    "# Putting it all together"
   ]
  },
  {
   "cell_type": "code",
   "execution_count": 32,
   "metadata": {},
   "outputs": [],
   "source": [
    "from selenium.webdriver.common.action_chains import ActionChains\n",
    "from selenium.webdriver.support import expected_conditions as EC\n",
    "from selenium.common.exceptions import TimeoutException\n",
    "from selenium.webdriver.support.ui import WebDriverWait\n",
    "from selenium.webdriver.common.keys import Keys\n",
    "from selenium.webdriver.common.by import By\n",
    "from selenium.webdriver import ActionChains\n",
    "import selenium.webdriver.support.ui as ui\n",
    "from pdf2image import convert_from_path\n",
    "from selenium import webdriver\n",
    "from bs4 import BeautifulSoup\n",
    "from datetime import date\n",
    "from PIL import Image \n",
    "import pandas as pd\n",
    "import pytesseract\n",
    "import requests\n",
    "import random\n",
    "import shutil\n",
    "import glob\n",
    "import json\n",
    "import fire\n",
    "import time\n",
    "import csv\n",
    "import sys\n",
    "import os\n",
    "import re\n",
    "\n",
    "def get_url(search_term):\n",
    "    template ='https://www.amazon.com/s?k=sanitizer&crid=2QWKDX28H5D87&sprefix=sanitizer%2Caps%2C503&ref=nb_sb_ss_ts-a-p_1_9'\n",
    "    search_term = search_term.replace('','+')\n",
    "    \n",
    "    #add query to url\n",
    "    url = template.format(search_term)\n",
    "    \n",
    "    #add page query\n",
    "    url += '&page{}'\n",
    "    \n",
    "    return url \n",
    "\n",
    "\n",
    "def extract_record(item):\n",
    "    atag = item.h2.a\n",
    "    description = atag.text.strip()\n",
    "    url ='https://www.amazon.com/' + atag.get('href')\n",
    "    \n",
    "    try:\n",
    "        #price\n",
    "        price_parent = item.find('span','a-price')\n",
    "        price = price_parent.find('span','a-offscreen').text \n",
    "        prodct_price = price.replace('$','')\n",
    "    except AttributeError:\n",
    "        return\n",
    "    \n",
    "    try:\n",
    "        #rating\n",
    "        rating = item.i.text\n",
    "        review_count = item.find('span',{'class':'a-size-base','dir':'auto'}).text\n",
    "    except AttributeError:\n",
    "        rating=''\n",
    "        review_count=''\n",
    "    result = (description, price, rating, review_count, url)\n",
    "    return result\n",
    "\n",
    "\n",
    "\n",
    "\n",
    "def main(search_term):\n",
    "    options = webdriver.ChromeOptions()\n",
    "    options.binary_location = r\"C:\\Program Files (x86)\\Google\\Chrome\\Application\\chrome.exe\"\n",
    "    options.headless = False\n",
    "    \n",
    "    record = []\n",
    "    url = get_url(search_term)\n",
    "    \n",
    "    for page in range(1,8):\n",
    "        driver.get(url.format(page))\n",
    "        soup = BeautifulSoup(driver.page_source,'html.parser')\n",
    "        results = soup.find_all('div',{'data-component-type':'s-search-result'})\n",
    "        \n",
    "        for item in results:\n",
    "            record = extract_record(item)\n",
    "            if record:\n",
    "                records.append(record)\n",
    "    driver.close()\n",
    "    \n",
    "    with open('results.csv','w',newline='',encoding='utf-8') as f:\n",
    "        writer = csv.writer(f)\n",
    "        writer.writerow(['Description','Price','Rating','ReviewCount','url'])\n",
    "        writer.writerows(records)"
   ]
  },
  {
   "cell_type": "code",
   "execution_count": 34,
   "metadata": {},
   "outputs": [],
   "source": [
    "main('sanitize')"
   ]
  }
 ],
 "metadata": {
  "kernelspec": {
   "display_name": "Python 3",
   "language": "python",
   "name": "python3"
  },
  "language_info": {
   "codemirror_mode": {
    "name": "ipython",
    "version": 3
   },
   "file_extension": ".py",
   "mimetype": "text/x-python",
   "name": "python",
   "nbconvert_exporter": "python",
   "pygments_lexer": "ipython3",
   "version": "3.8.5"
  }
 },
 "nbformat": 4,
 "nbformat_minor": 2
}
