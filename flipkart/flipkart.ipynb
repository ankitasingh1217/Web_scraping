{
 "cells": [
  {
   "cell_type": "code",
   "execution_count": 1,
   "metadata": {},
   "outputs": [],
   "source": [
    "from selenium.webdriver.common.action_chains import ActionChains\n",
    "from selenium.webdriver.support import expected_conditions as EC\n",
    "from selenium.common.exceptions import TimeoutException\n",
    "from selenium.webdriver.support.ui import WebDriverWait\n",
    "from selenium.webdriver.common.keys import Keys\n",
    "from selenium.webdriver.common.by import By\n",
    "from selenium.webdriver import ActionChains\n",
    "from pdf2image import convert_from_path\n",
    "from selenium import webdriver\n",
    "from bs4 import BeautifulSoup\n",
    "from datetime import date\n",
    "from PIL import Image \n",
    "import pandas as pd\n",
    "import pytesseract\n",
    "import requests\n",
    "import shutil\n",
    "import random\n",
    "import glob\n",
    "import json \n",
    "import time\n",
    "import csv\n",
    "import sys\n",
    "import os\n",
    "import re"
   ]
  },
  {
   "cell_type": "code",
   "execution_count": 2,
   "metadata": {},
   "outputs": [],
   "source": [
    "options = webdriver.ChromeOptions()\n",
    "options.binary_location = r\"C:\\Program Files\\Google\\Chrome\\Application\\chrome.exe\"\n",
    "options.headless = False\n",
    "path = r\"D:\\Chromedriver\\chromedriver\"\n",
    "browser = webdriver.Chrome(executable_path = path , options = options)\n",
    "browser.maximize_window()\n",
    "browser.get(\"https://www.flipkart.com/clothing-and-accessories/bottomwear/jeans/mens-jeans/pr?sid=clo,vua,k58,i51&q=jeans&otracker=categorytree\")\n"
   ]
  },
  {
   "cell_type": "code",
   "execution_count": 14,
   "metadata": {},
   "outputs": [],
   "source": [
    "DETAILS = [browser.execute_script('return document.getElementsByClassName(\"_2LFGJH\")['+str(i)+'].innerText') for i in range(40)]\n",
    "DIS=[browser.execute_script('return document.getElementsByClassName(\"VGWI6T\")['+str(i)+'].innerText') for i in range(40)]"
   ]
  },
  {
   "cell_type": "code",
   "execution_count": 19,
   "metadata": {},
   "outputs": [],
   "source": [
    "BN=[]\n",
    "DES=[]\n",
    "ACT=[]\n",
    "MRP=[]\n",
    "for k in range(40):\n",
    "    BN.append(DETAILS[k].split('\\n')[0])\n",
    "    DES.append(DETAILS[k].split('\\n')[1])\n",
    "    ACT.append(DETAILS[k].split('\\n')[2].split(\"₹\")[1].replace(',',''))\n",
    "    MRP.append(DETAILS[k].split('\\n')[2].split(\"₹\")[2].split('%')[0][:-2].replace(',',''))"
   ]
  },
  {
   "cell_type": "code",
   "execution_count": 21,
   "metadata": {},
   "outputs": [],
   "source": [
    "data = pd.DataFrame({\"BrandName\":BN,\"Descrpition\":DES,\"Current_Price \":ACT,\"MRP\":MRP,\"Discount%\":DIS})\n",
    "data.to_csv(\"Flipkart.csv\",index=False,encoding = 'UTF-8')"
   ]
  },
  {
   "cell_type": "code",
   "execution_count": 72,
   "metadata": {},
   "outputs": [],
   "source": [
    "a=DETAILS[1].split('\\n')[2].split(\"₹\")[1]"
   ]
  },
  {
   "cell_type": "code",
   "execution_count": null,
   "metadata": {},
   "outputs": [],
   "source": []
  },
  {
   "cell_type": "code",
   "execution_count": null,
   "metadata": {},
   "outputs": [],
   "source": []
  }
 ],
 "metadata": {
  "kernelspec": {
   "display_name": "Python 3",
   "language": "python",
   "name": "python3"
  },
  "language_info": {
   "codemirror_mode": {
    "name": "ipython",
    "version": 3
   },
   "file_extension": ".py",
   "mimetype": "text/x-python",
   "name": "python",
   "nbconvert_exporter": "python",
   "pygments_lexer": "ipython3",
   "version": "3.8.5"
  }
 },
 "nbformat": 4,
 "nbformat_minor": 2
}
